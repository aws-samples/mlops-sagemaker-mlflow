{
 "cells": [
  {
   "cell_type": "markdown",
   "id": "80ec963f-da9c-4f2b-8894-866d2b5c7390",
   "metadata": {
    "editable": true,
    "slideshow": {
     "slide_type": ""
    },
    "tags": []
   },
   "source": [
    "# Register ML Model using SageMaker\n",
    "After training an ML model, you might want to evaluate its performance and have it reviewed by a data scientist or MLOps engineer in your organization before using it in production. To do this, you can register your model versions to the SageMaker model registry. The SageMaker model registry is a repository that data scientists or engineers can use to catalog machine learning (ML) models and manage model versions and their associated metadata, such as training metrics. They can also manage and log the approval status of a model.\n",
    "\n",
    "After you register your model versions to the SageMaker model registry, a data scientist or your MLOps team can access the SageMaker model registry through SageMaker Studio. Additionally, the data scientist or MLOps team can evaluate your model and update its approval status. If the model doesn’t perform to their requirements, the data scientist or MLOps team can update the status to `Rejected`. If the model does perform to their requirements, then the data scientist or MLOps team can update the status to `Approved`. Then, they can deploy your model to an endpoint or automate model deployment with CI/CD pipelines. \n",
    "\n",
    "You can use the SageMaker model registry feature to seamlessly integrate models with the MLOps processes in your organization.\n",
    "\n",
    "The following diagram summarizes an example of registering a model version built in SageMaker Studio to the SageMaker model registry for integration into an MLOps workflow.\n",
    "\n",
    "![register model](img/sagemaker-mlops-register-model-diagram.jpg)\n",
    "\n",
    "## Model Registration\n",
    "With a model registry, you can version control the model that you train, similar to version control software code. When version control is enabled, you can track the performance of the model over time and make informed decisions about using the best model to serve in your production environment. The SageMaker Model Registry is structured as several Model (Package) Groups with model packages in each group. These Model Groups can optionally be added to one or more Collections. Each model package in a Model Group corresponds to a trained model. The version of each model package is a numerical value that starts at 1 and is incremented with each new model package added to a Model Group. For example, if 5 model packages are added to a Model Group, the model package versions will be 1, 2, 3, 4, and 5.  \n",
    "\n",
    "The following diagram depicts how model versioning is organized in SageMaker Model Registry:\n",
    "\n",
    "![sm model registry](img/sagemaker-model-registry-diagram.jpg)\n"
   ]
  },
  {
   "cell_type": "code",
   "execution_count": null,
   "id": "0c7f15a6-501e-45e3-84ee-aaba47574e57",
   "metadata": {
    "editable": true,
    "slideshow": {
     "slide_type": ""
    },
    "tags": []
   },
   "outputs": [],
   "source": [
    "%pip install sagemaker mlflow==2.13.2 sagemaker-mlflow==0.1.0"
   ]
  },
  {
   "cell_type": "markdown",
   "id": "6dc0074f-6ac2-417c-bb41-801d8123d45f",
   "metadata": {
    "editable": true,
    "slideshow": {
     "slide_type": ""
    },
    "tags": []
   },
   "source": [
    "Import relevant libraries"
   ]
  },
  {
   "cell_type": "code",
   "execution_count": null,
   "id": "6d5d83c1-21d7-4435-ac99-ce7238091096",
   "metadata": {
    "editable": true,
    "slideshow": {
     "slide_type": ""
    },
    "tags": []
   },
   "outputs": [],
   "source": [
    "import json\n",
    "import os\n",
    "import sagemaker\n",
    "import boto3\n",
    "import mlflow\n",
    "from time import gmtime, strftime\n",
    "from sagemaker.model import Model\n",
    "from sagemaker.model_metrics import (\n",
    "    MetricsSource,\n",
    "    ModelMetrics,\n",
    "    FileSource\n",
    ")\n",
    "from sagemaker import Model\n",
    "from sagemaker.model_card.model_card import ModelCard, TrainingDetails, TrainingJobDetails, ModelOverview\n",
    "from botocore.exceptions import ClientError"
   ]
  },
  {
   "cell_type": "markdown",
   "id": "4c742202-4163-42f1-a18c-17738eee7b42",
   "metadata": {
    "editable": true,
    "slideshow": {
     "slide_type": ""
    },
    "tags": []
   },
   "source": [
    "# Define Helper Functions"
   ]
  },
  {
   "cell_type": "code",
   "execution_count": null,
   "id": "bdfbbafe-88fd-4c51-87ec-f59c5bc2edcf",
   "metadata": {
    "editable": true,
    "slideshow": {
     "slide_type": ""
    },
    "tags": []
   },
   "outputs": [],
   "source": [
    "def download_from_s3(s3_client, local_file_path, bucket_name, s3_file_path):\n",
    "    try:\n",
    "        # Download the file\n",
    "        s3_client.download_file(bucket_name, s3_file_path, local_file_path)\n",
    "        print(f\"File downloaded successfully to {local_file_path}\")\n",
    "        return True\n",
    "    except ClientError as e:\n",
    "        if e.response['Error']['Code'] == \"404\":\n",
    "            print(\"The object does not exist.\")\n",
    "        else:\n",
    "            print(f\"An error occurred: {e}\")\n",
    "        return False\n",
    "    except Exception as e:\n",
    "        print(f\"An unexpected error occurred: {e}\")\n",
    "        return False\n",
    "\n",
    "def upload_to_s3(s3_client, local_file_path, bucket_name, s3_file_path=None):\n",
    "    # If S3 file path is not specified, use the basename of the local file\n",
    "    if s3_file_path is None:\n",
    "        s3_file_path = os.path.basename(local_file_path)\n",
    "\n",
    "    try:\n",
    "        # Upload the file\n",
    "        s3_client.upload_file(local_file_path, bucket_name, s3_file_path)\n",
    "        print(f\"File {local_file_path} uploaded successfully to {bucket_name}/{s3_file_path}\")\n",
    "        return True\n",
    "    except ClientError as e:\n",
    "        print(f\"ClientError: {e}\")\n",
    "        return False\n",
    "    except FileNotFoundError:\n",
    "        print(f\"The file {local_file_path} was not found\")\n",
    "        return False\n",
    "    except Exception as e:\n",
    "        print(f\"An unexpected error occurred: {e}\")\n",
    "        return False\n",
    "        \n",
    "def write_params(s3_client, step_name, params, notebook_param_s3_bucket_prefix):\n",
    "    local_file_path = f\"{step_name}.json\"\n",
    "    with open(local_file_path, \"w\") as f:\n",
    "        f.write(json.dumps(params))\n",
    "    base_local_file_path = os.path.basename(local_file_path)\n",
    "    bucket_name = notebook_param_s3_bucket_prefix.split(\"/\")[2] # Format: s3://<bucket_name>/..\n",
    "    s3_file_path = os.path.join(\"/\".join(notebook_param_s3_bucket_prefix.split(\"/\")[3:]), base_local_file_path)\n",
    "    upload_to_s3(s3_client, local_file_path, bucket_name, s3_file_path)\n",
    "    \n",
    "def read_params(s3_client, notebook_param_s3_bucket_prefix, step_name):\n",
    "    local_file_path = f\"{step_name}.json\"\n",
    "    base_local_file_path = os.path.basename(local_file_path)\n",
    "    bucket_name = notebook_param_s3_bucket_prefix.split(\"/\")[2] # Format: s3://<bucket_name>/..\n",
    "    s3_file_path = os.path.join(\"/\".join(notebook_param_s3_bucket_prefix.split(\"/\")[3:]),  base_local_file_path)\n",
    "    downloaded = download_from_s3(s3_client, local_file_path, bucket_name, s3_file_path)\n",
    "    with open(local_file_path, \"r\") as f:\n",
    "        data = f.read()\n",
    "        params = json.loads(data)\n",
    "    return params\n"
   ]
  },
  {
   "cell_type": "markdown",
   "id": "157fdb0e-83b9-4950-930f-8197745ed06c",
   "metadata": {
    "editable": true,
    "slideshow": {
     "slide_type": ""
    },
    "tags": []
   },
   "source": [
    "# Initialize Variables\n",
    "Similar to the previous notebooks in this repository, the variables defined in the following cell are specifically used throughout this notebook. In addition to the hardcoded values, these variables can be passed into the notebook as parameters when the notebook is scheduled to run remotely, such as a SageMaker Pipeline job, or a CICD pipeline through SageMaker Project. We'll dive into how to pass parameters into this notebook in the next lab. Please refer to [this](https://docs.aws.amazon.com/sagemaker/latest/dg/notebook-auto-run-troubleshoot-override.html) documentation for more information notebook parameterization.\n",
    "\n",
    "Similar to `02-preprocess.ipynb` notebook, the following variables can be obtained via SageMaker Studio launcher. Instructions and screenshots are provided in the notebook to guide you through it if you need additional assistance. "
   ]
  },
  {
   "cell_type": "code",
   "execution_count": null,
   "id": "10d9db12-cbe3-4aec-94e1-3d634b3a47d4",
   "metadata": {
    "editable": true,
    "slideshow": {
     "slide_type": ""
    },
    "tags": [
     "parameters"
    ]
   },
   "outputs": [],
   "source": [
    "region = \"us-east-1\"\n",
    "os.environ[\"AWS_DEFAULT_REGION\"] = region\n",
    "boto_session = boto3.Session(region_name=region)\n",
    "sess = sagemaker.Session(boto_session=boto_session)\n",
    "bucket_name = sess.default_bucket()\n",
    "bucket_prefix = \"player-churn/xgboost\"\n",
    "notebook_param_s3_bucket_prefix=f\"s3://{bucket_name}/{bucket_prefix}/params\"\n",
    "experiment_name = \"player-churn-model-experiment\"\n",
    "run_id = None\n",
    "model_package_group_name = \"player-churn-model-group\" # Provide a new model package group name. For example: player-churn-model-group\n",
    "mlflow_tracking_server_arn = \"\" # Provide a valid mlflow tracking server ARN. You can find the value in the output from 00-start-here.ipynb\n",
    "model_approval_status = \"PendingManualApproval\"\n",
    "model_statistics_s3_path = None\n",
    "model_constraints_s3_path = None\n",
    "model_data_statistics_s3_path = None\n",
    "model_data_constraints_s3_path = None"
   ]
  },
  {
   "cell_type": "code",
   "execution_count": null,
   "id": "9e39d617-c746-46fd-81f0-38f81cfa3d6c",
   "metadata": {},
   "outputs": [],
   "source": [
    "assert len(model_package_group_name) > 0\n",
    "assert len(mlflow_tracking_server_arn) > 0"
   ]
  },
  {
   "cell_type": "markdown",
   "id": "c6860b7d-3c42-468c-8303-99c61e0f9067",
   "metadata": {},
   "source": [
    "Retrieves step variables from previous notebooks."
   ]
  },
  {
   "cell_type": "code",
   "execution_count": null,
   "id": "e9b88dcf-0427-403c-a996-fc8109452340",
   "metadata": {
    "editable": true,
    "slideshow": {
     "slide_type": ""
    },
    "tags": []
   },
   "outputs": [],
   "source": [
    "preprocess_step_name = \"02-preprocess\"\n",
    "train_step_name = \"03-train\"\n",
    "evaluation_step_name = \"04-evaluation\"\n",
    "\n",
    "s3_client = boto3.client(\"s3\", region_name=region)\n",
    "preprocess_step_params = read_params(s3_client, notebook_param_s3_bucket_prefix, preprocess_step_name)\n",
    "train_step_params = read_params(s3_client, notebook_param_s3_bucket_prefix, train_step_name)\n",
    "evaluation_step_params = read_params(s3_client, notebook_param_s3_bucket_prefix, evaluation_step_name)\n",
    "experiment_name = preprocess_step_params[\"experiment_name\"]"
   ]
  },
  {
   "cell_type": "markdown",
   "id": "95226ff6-5017-4b42-b49b-bc0ae8cec68a",
   "metadata": {},
   "source": [
    "The following cell integrates MLFlow tracking server with this model registry job."
   ]
  },
  {
   "cell_type": "code",
   "execution_count": null,
   "id": "dc1a3ade-b299-4e0c-8e00-c3201bb634e4",
   "metadata": {
    "editable": true,
    "slideshow": {
     "slide_type": ""
    },
    "tags": []
   },
   "outputs": [],
   "source": [
    "suffix = strftime('%d-%H-%M-%S', gmtime())\n",
    "mlflow.set_tracking_uri(mlflow_tracking_server_arn)\n",
    "experiment = mlflow.set_experiment(experiment_name=experiment_name)\n",
    "run = mlflow.start_run(run_id=run_id) if run_id else mlflow.start_run(run_name=f\"register-{suffix}\", nested=True)"
   ]
  },
  {
   "cell_type": "markdown",
   "id": "dc4451e5-db57-4f64-9195-7c747a87ab01",
   "metadata": {},
   "source": [
    "Download the model evaluation metrics from `04-evaluation` step. The metrics will provide the performance characteristics for the particular model registered in the SageMaker model registry."
   ]
  },
  {
   "cell_type": "code",
   "execution_count": null,
   "id": "0a17c96b-78ba-43f6-8554-c2e60242588e",
   "metadata": {
    "editable": true,
    "slideshow": {
     "slide_type": ""
    },
    "tags": []
   },
   "outputs": [],
   "source": [
    "local_file_path = \"evaluation.json\"\n",
    "evaluation_result_s3_path = evaluation_step_params[\"evaluation_result_s3_path\"]\n",
    "s3_file_path = \"/\".join(evaluation_result_s3_path.split(\"/\")[3:])\n",
    "evaluation_result_bucket_name = evaluation_result_s3_path.split(\"/\")[2]"
   ]
  },
  {
   "cell_type": "code",
   "execution_count": null,
   "id": "dba6d806-5d3b-4f7c-b327-3907b1a7aa62",
   "metadata": {
    "editable": true,
    "slideshow": {
     "slide_type": ""
    },
    "tags": []
   },
   "outputs": [],
   "source": [
    "download_from_s3(s3_client, local_file_path, bucket_name, s3_file_path)"
   ]
  },
  {
   "cell_type": "code",
   "execution_count": null,
   "id": "38363813-2834-41ad-bc3a-33472f967ec7",
   "metadata": {
    "editable": true,
    "slideshow": {
     "slide_type": ""
    },
    "tags": []
   },
   "outputs": [],
   "source": [
    "mlflow.log_artifact(local_path=local_file_path)"
   ]
  },
  {
   "cell_type": "markdown",
   "id": "fafcf11b-64b8-4ce7-9e35-8356410541d9",
   "metadata": {},
   "source": [
    "Captures model baseline metrics if available"
   ]
  },
  {
   "cell_type": "code",
   "execution_count": null,
   "id": "eb3bb18f-95d9-4059-b7c8-1a2838858aa2",
   "metadata": {
    "editable": true,
    "slideshow": {
     "slide_type": ""
    },
    "tags": []
   },
   "outputs": [],
   "source": [
    "model_metrics = ModelMetrics(\n",
    "    model_statistics=MetricsSource(\n",
    "        s3_uri=model_statistics_s3_path,\n",
    "        content_type=\"application/json\",\n",
    "    ) if model_statistics_s3_path else None,\n",
    "    model_constraints=MetricsSource(\n",
    "        s3_uri=model_constraints_s3_path,\n",
    "        content_type=\"application/json\",\n",
    "    ) if model_constraints_s3_path else None,\n",
    "    model_data_statistics=MetricsSource(\n",
    "        s3_uri=model_data_statistics_s3_path,\n",
    "        content_type=\"application/json\",\n",
    "    ) if model_data_statistics_s3_path else None,\n",
    "    model_data_constraints=MetricsSource(\n",
    "        s3_uri=model_data_constraints_s3_path,\n",
    "        content_type=\"application/json\",\n",
    "    ) if model_data_constraints_s3_path else None,\n",
    ")\n",
    "\n"
   ]
  },
  {
   "cell_type": "markdown",
   "id": "95b1ee77-8884-4a42-8b11-3a03b87e6e93",
   "metadata": {},
   "source": [
    "Using the model information from the training job, we could collect the model artifact details from the SageMaker training job for model registration process."
   ]
  },
  {
   "cell_type": "code",
   "execution_count": null,
   "id": "031fd58e-5716-44df-ad90-75fadb5d8be0",
   "metadata": {
    "editable": true,
    "slideshow": {
     "slide_type": ""
    },
    "tags": []
   },
   "outputs": [],
   "source": [
    "XGBOOST_IMAGE_URI = sagemaker.image_uris.retrieve(\n",
    "            \"xgboost\",\n",
    "            region=boto3.Session().region_name,\n",
    "            version=\"1.7-1\"\n",
    ")\n",
    "model_data = train_step_params[\"model_s3_path\"]\n",
    "model_role = sagemaker.get_execution_role()\n",
    "model_name = \"player-churn-model\""
   ]
  },
  {
   "cell_type": "code",
   "execution_count": null,
   "id": "e64480c3-a1be-4855-bb59-a293b3b58f72",
   "metadata": {
    "editable": true,
    "slideshow": {
     "slide_type": ""
    },
    "tags": []
   },
   "outputs": [],
   "source": [
    "model = Model(image_uri=XGBOOST_IMAGE_URI, sagemaker_session=sess, model_data=model_data, role=model_role, name=model_name)\n",
    "training_details = TrainingDetails.from_model_s3_artifacts(\n",
    "                model_artifacts=[model_data], sagemaker_session=sess\n",
    "            )\n",
    "training_job_details = training_details.training_job_details\n",
    "training_datasets = [preprocess_step_params[\"train_data\"], preprocess_step_params[\"validation_data\"]]\n",
    "training_job_details.training_datasets = training_datasets\n",
    "\n",
    "model_card = ModelCard(\n",
    "    name=\"estimator_card\",\n",
    "    training_details=training_details,\n",
    "    sagemaker_session=sess,\n",
    ")\n",
    "\n",
    "model_overview = ModelOverview(model_artifact=[model_data])\n",
    "model_card.model_overview = model_overview"
   ]
  },
  {
   "cell_type": "markdown",
   "id": "1d25f69a-1b8c-473e-806c-9f840a056877",
   "metadata": {},
   "source": [
    "## Register Model package group using a SageMaker Model Object"
   ]
  },
  {
   "cell_type": "code",
   "execution_count": null,
   "id": "d2c1684b-3b00-49f5-a50b-7d3b70845ffe",
   "metadata": {
    "editable": true,
    "slideshow": {
     "slide_type": ""
    },
    "tags": []
   },
   "outputs": [],
   "source": [
    "model_package = model.register(\n",
    "    content_types=[\"text/csv\"],\n",
    "    response_types=[\"text/csv\"],\n",
    "    inference_instances=[\"ml.m5.xlarge\", \"ml.m5.large\"],\n",
    "    transform_instances=[\"ml.m5.xlarge\", \"ml.m5.large\"],\n",
    "    model_package_group_name=model_package_group_name,\n",
    "    approval_status=model_approval_status,\n",
    "    model_metrics=model_metrics,\n",
    "    domain=\"MACHINE_LEARNING\",\n",
    "    task=\"CLASSIFICATION\",\n",
    "    model_card=model_card\n",
    ")"
   ]
  },
  {
   "cell_type": "markdown",
   "id": "2a00b43a-ed87-465c-905e-2a5fa04ac891",
   "metadata": {},
   "source": [
    "# SageMaker Model Package Group\n",
    "To visualize the newly registered model, navigate to SageMaker Studio Launcher, select `Models` in the left pane, the model group will be shown on the right pane. The following diagram shows a new version of the XGBoost model created in the given model package group from SageMaker Studio Console. \n",
    "\n",
    "![sagemaker model registry](img/sagamaker-model-registry-diagram.jpg)"
   ]
  },
  {
   "cell_type": "code",
   "execution_count": null,
   "id": "5ef15a02-5d02-4ee7-a173-97c91cc7a874",
   "metadata": {
    "editable": true,
    "slideshow": {
     "slide_type": ""
    },
    "tags": []
   },
   "outputs": [],
   "source": [
    "mlflow.log_params({\n",
    "    \"model_package_arn\":model_package.model_package_arn,\n",
    "    \"model_statistics_uri\":model_statistics_s3_path if model_statistics_s3_path else '',\n",
    "    \"model_constraints_uri\":model_constraints_s3_path if model_constraints_s3_path else '',\n",
    "    \"data_statistics_uri\":model_data_statistics_s3_path if model_data_statistics_s3_path else '',\n",
    "    \"data_constraints_uri\":model_data_constraints_s3_path if model_data_constraints_s3_path else '',\n",
    "})"
   ]
  },
  {
   "cell_type": "code",
   "execution_count": null,
   "id": "93ca31fa-cc5a-43ee-b7f0-9afe10621a09",
   "metadata": {},
   "outputs": [],
   "source": []
  }
 ],
 "metadata": {
  "kernelspec": {
   "display_name": "Python 3 (ipykernel)",
   "language": "python",
   "name": "python3"
  },
  "language_info": {
   "codemirror_mode": {
    "name": "ipython",
    "version": 3
   },
   "file_extension": ".py",
   "mimetype": "text/x-python",
   "name": "python",
   "nbconvert_exporter": "python",
   "pygments_lexer": "ipython3",
   "version": "3.11.9"
  }
 },
 "nbformat": 4,
 "nbformat_minor": 5
}
