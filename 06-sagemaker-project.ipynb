{
 "cells": [
  {
   "cell_type": "markdown",
   "id": "6eb825bb-e3c2-4838-b73c-528e1fc25735",
   "metadata": {},
   "source": [
    "# Step 3: Add a model building CI/CD pipeline\n",
    "\n",
    "In this step you create an automated CI/CD pipeline for model building using [Amazon SageMaker Projects](https://docs.aws.amazon.com/sagemaker/latest/dg/sagemaker-projects.html). \n",
    "\n",
    "![](img/sagemaker-mlops-project-build.jpg)\n",
    "\n",
    "You are going to use a [SageMaker-provided MLOps project template for model building and training](https://docs.aws.amazon.com/sagemaker/latest/dg/sagemaker-projects-templates-sm.html#sagemaker-projects-templates-code-commit) to provision a CI/CD workflow automation with [AWS CodePipeline](https://aws.amazon.com/codepipeline/) and an [AWS CodeCommit](https://aws.amazon.com/codecommit/) code repository.\n",
    "\n",
    "SageMaker project templates offer you the following choice of code repositories, workflow automation tools, and pipeline stages:\n",
    "- **Code repository**: AWS CodeCommit or third-party Git repositories such as GitHub and Bitbucket\n",
    "- **CI/CD workflow automation**: AWS CodePipeline or Jenkins\n",
    "- **Pipeline stages**: Model building and training, model deployment, or both"
   ]
  },
  {
   "cell_type": "markdown",
   "id": "e4460e1c-54dd-4131-8ea1-b64c87d1bf81",
   "metadata": {
    "tags": []
   },
   "source": [
    "<div class=\"alert alert-info\"> Make sure you using <code>Python 3</code> kernel in JupyterLab for this notebook.</div>"
   ]
  },
  {
   "cell_type": "code",
   "execution_count": null,
   "id": "42102a0b-a706-43b3-9f23-59f7084123f1",
   "metadata": {
    "tags": []
   },
   "outputs": [],
   "source": [
    "import boto3\n",
    "import sagemaker \n",
    "from time import gmtime, strftime, sleep"
   ]
  },
  {
   "cell_type": "markdown",
   "id": "aaeaa68c-a2aa-4da5-8577-42d7dff2067a",
   "metadata": {},
   "source": [
    "## Create an MLOps project\n",
    "⭐ You can create a project programmatically in this notebook - **Option 1** or in Studio UI - **Option 2**.\n",
    "\n",
    "Option 1 is recommended as it requires no manual input and has no dependency on the UX.</br>\n",
    "Option 2 is given to demonstrate [**Create Project** UI flow](https://docs.aws.amazon.com/sagemaker/latest/dg/sagemaker-projects-create.html)."
   ]
  },
  {
   "cell_type": "markdown",
   "id": "cd7061c4-b0f5-48a9-999c-1b0b84c8a4b9",
   "metadata": {},
   "source": [
    "### Option 1: Create project programmatically\n",
    "In this section you use `boto3` to create an MLOps project via a SageMaker API."
   ]
  },
  {
   "cell_type": "code",
   "execution_count": null,
   "id": "1002ef46-7906-44fe-a874-78c3607d827a",
   "metadata": {
    "tags": []
   },
   "outputs": [],
   "source": [
    "sm = boto3.client(\"sagemaker\")\n",
    "sc = boto3.client(\"servicecatalog\")\n",
    "\n",
    "sc_provider_name = \"Amazon SageMaker\"\n",
    "sc_product_name = \"MLOps template for model building and training\""
   ]
  },
  {
   "cell_type": "code",
   "execution_count": null,
   "id": "a30b2c04-8c60-4f67-abef-284e47072110",
   "metadata": {
    "tags": []
   },
   "outputs": [],
   "source": [
    "p_ids = [p['ProductId'] for p in sc.search_products(\n",
    "    Filters={\n",
    "        'FullTextSearch': [sc_product_name]\n",
    "    },\n",
    ")['ProductViewSummaries'] if p[\"Name\"]==sc_product_name]"
   ]
  },
  {
   "cell_type": "code",
   "execution_count": null,
   "id": "579caafe-27c5-4a82-84c4-f364675ca7c7",
   "metadata": {
    "tags": []
   },
   "outputs": [],
   "source": [
    "p_ids"
   ]
  },
  {
   "cell_type": "code",
   "execution_count": null,
   "id": "2cef972c-ff89-49fb-a498-35f8a4768d25",
   "metadata": {
    "tags": []
   },
   "outputs": [],
   "source": [
    "# If you get any exception from this code, go to the Option 2 and create a project in Studio UI\n",
    "if not len(p_ids):\n",
    "    raise Exception(\"No Amazon SageMaker ML Ops products found!\")\n",
    "elif len(p_ids) > 1:\n",
    "    raise Exception(\"Too many matching Amazon SageMaker ML Ops products found!\")\n",
    "else:\n",
    "    product_id = p_ids[0]\n",
    "    print(f\"ML Ops product id: {product_id}\")"
   ]
  },
  {
   "cell_type": "code",
   "execution_count": null,
   "id": "8b51c8dc-57e7-4ff1-a137-3f4e93d9594c",
   "metadata": {
    "tags": []
   },
   "outputs": [],
   "source": [
    "provisioning_artifact_id = sorted(\n",
    "    [i for i in sc.list_provisioning_artifacts(\n",
    "        ProductId=product_id\n",
    "    )['ProvisioningArtifactDetails'] if i['Guidance']=='DEFAULT'],\n",
    "    key=lambda d: d['Name'], reverse=True)[0]['Id']"
   ]
  },
  {
   "cell_type": "code",
   "execution_count": null,
   "id": "f65aa4b1-c848-45ce-9f51-b5c4b70175b1",
   "metadata": {
    "tags": []
   },
   "outputs": [],
   "source": [
    "provisioning_artifact_id"
   ]
  },
  {
   "cell_type": "code",
   "execution_count": null,
   "id": "ed952193-a0cf-48c8-b776-351f6452adc8",
   "metadata": {
    "tags": []
   },
   "outputs": [],
   "source": [
    "project_name = f\"model-build-{strftime('%m-%d-%H-%M-%S', gmtime())}\"\n",
    "project_parameters = [] # This SageMaker built-in project template doesn't have any parameters"
   ]
  },
  {
   "cell_type": "markdown",
   "id": "22e7f228-8ca1-4c93-8131-8901acf75165",
   "metadata": {},
   "source": [
    "Finally, create a SageMaker project from the service catalog product template:"
   ]
  },
  {
   "cell_type": "code",
   "execution_count": null,
   "id": "4928192d-4580-4f23-ab89-749937365cfb",
   "metadata": {
    "tags": []
   },
   "outputs": [],
   "source": [
    "# create SageMaker project\n",
    "r = sm.create_project(\n",
    "    ProjectName=project_name,\n",
    "    ProjectDescription=\"Model build project\",\n",
    "    ServiceCatalogProvisioningDetails={\n",
    "        'ProductId': product_id,\n",
    "        'ProvisioningArtifactId': provisioning_artifact_id,\n",
    "    },\n",
    ")\n",
    "\n",
    "print(r)\n",
    "project_id = r[\"ProjectId\"]"
   ]
  },
  {
   "cell_type": "markdown",
   "id": "a82b313e-9025-42cb-8f7a-a617ed771e3e",
   "metadata": {},
   "source": [
    "<div class=\"alert alert-info\"> 💡 <strong> Wait until project creation is completed by running the next cell</strong>\n",
    "</div>"
   ]
  },
  {
   "cell_type": "markdown",
   "id": "0afc704f",
   "metadata": {},
   "source": [
    "\n",
    "<img src=\"data:image/svg+xml;base64,Cjxzdmcgd2lkdGg9IjgwMCIgaGVpZ2h0PSIxMjUiIHZpZXdCb3g9IjAgMCA4MDAgMTI1IiB4bWxucz0iaHR0cDovL3d3dy53My5vcmcvMjAwMC9zdmciPgogICAgPGRlZnM+CiAgICAgICAgPGxpbmVhckdyYWRpZW50IGlkPSJmYWRlR3JhZGllbnQiIHgxPSIwIiB4Mj0iMSI+CiAgICAgICAgICAgIDxzdG9wIG9mZnNldD0iMCUiIHN0b3AtY29sb3I9IiNGMEYwRjAiLz4KICAgICAgICAgICAgPHN0b3Agb2Zmc2V0PSIxMDAlIiBzdG9wLWNvbG9yPSIjRjBGMEYwIiBzdG9wLW9wYWNpdHk9IjAiLz4KICAgICAgICA8L2xpbmVhckdyYWRpZW50PgogICAgICAgIDxtYXNrIGlkPSJmYWRlTWFzayI+CiAgICAgICAgICAgIDxyZWN0IHg9IjAiIHk9IjAiIHdpZHRoPSI3NTAiIGhlaWdodD0iMTI1IiBmaWxsPSJ3aGl0ZSIvPgogICAgICAgICAgICA8cmVjdCB4PSI3NTAiIHk9IjAiIHdpZHRoPSI1MCIgaGVpZ2h0PSIxMjUiIGZpbGw9InVybCgjZmFkZUdyYWRpZW50KSIvPgogICAgICAgIDwvbWFzaz4KICAgIDwvZGVmcz4KICAgIDxwYXRoIGQ9Ik0zLDUwIEE1MCw1MCAwIDAgMSA1MywzIEw3OTcsMyBMNzk3LDk3IEw5Nyw5NyBMNTAsMTE1IEwzLDk3IFoiIGZpbGw9IiNGMEYwRjAiIHN0cm9rZT0iI0UwRTBFMCIgc3Ryb2tlLXdpZHRoPSIxIiBtYXNrPSJ1cmwoI2ZhZGVNYXNrKSIvPgogICAgPGNpcmNsZSBjeD0iNTAiIGN5PSI1MCIgcj0iMzAiIGZpbGw9IiM1N2M0ZjgiIHN0cm9rZT0iIzU3YzRmOCIgc3Ryb2tlLXdpZHRoPSIxIi8+CiAgICA8Y2lyY2xlIGN4PSI1MCIgY3k9IjUwIiByPSIyNSIgZmlsbD0iI0YwRjBGMCIvPgogICAgPGxpbmUgeDE9IjUwIiB5MT0iNTAiIHgyPSI1MCIgeTI9IjMwIiBzdHJva2U9IiM1N2M0ZjgiIHN0cm9rZS13aWR0aD0iMyIgc3Ryb2tlLWxpbmVjYXA9InJvdW5kIi8+CiAgICA8bGluZSB4MT0iNTAiIHkxPSI1MCIgeDI9IjY1IiB5Mj0iNTAiIHN0cm9rZT0iIzU3YzRmOCIgc3Ryb2tlLXdpZHRoPSIzIiBzdHJva2UtbGluZWNhcD0icm91bmQiLz4KICAgIDx0ZXh0IHg9IjEwMCIgeT0iMzQiIGZvbnQtZmFtaWx5PSJBcmlhbCwgc2Fucy1zZXJpZiIgZm9udC1zaXplPSIxNCIgZmlsbD0iIzMzMzMzMyI+VGhlIG5leHQgY2VsbCBtYXkgdGFrZSBhIGZldyBtaW51dGVzIHRvIHJ1bi48L3RleHQ+Cjwvc3ZnPgo=\" alt=\"Time alert open medium\"/>"
   ]
  },
  {
   "cell_type": "code",
   "execution_count": null,
   "id": "af1af2b6-2324-41f4-8a5a-0cf178b9ec23",
   "metadata": {
    "tags": []
   },
   "outputs": [],
   "source": [
    "# Project creation takes about 3-5 min\n",
    "while sm.describe_project(ProjectName=project_name)['ProjectStatus'] != 'CreateCompleted':\n",
    "    print(\"Waiting for project creation completion\")\n",
    "    sleep(10)\n",
    "    \n",
    "print(f\"MLOps project {project_name} creation completed\")"
   ]
  },
  {
   "cell_type": "markdown",
   "id": "58ee7720",
   "metadata": {},
   "source": [
    "<img src=\"data:image/svg+xml;base64,Cjxzdmcgd2lkdGg9IjgwMCIgaGVpZ2h0PSI1MCIgdmlld0JveD0iMCAwIDgwMCA1MCIgeG1sbnM9Imh0dHA6Ly93d3cudzMub3JnLzIwMDAvc3ZnIj4KICAgIDxkZWZzPgogICAgICAgIDxsaW5lYXJHcmFkaWVudCBpZD0iZmFkZUdyYWRpZW50IiB4MT0iMCIgeDI9IjEiPgogICAgICAgICAgICA8c3RvcCBvZmZzZXQ9IjAlIiBzdG9wLWNvbG9yPSIjRjBGMEYwIi8+CiAgICAgICAgICAgIDxzdG9wIG9mZnNldD0iMTAwJSIgc3RvcC1jb2xvcj0iI0YwRjBGMCIgc3RvcC1vcGFjaXR5PSIwIi8+CiAgICAgICAgPC9saW5lYXJHcmFkaWVudD4KICAgICAgICA8bWFzayBpZD0iZmFkZU1hc2siPgogICAgICAgICAgICA8cmVjdCB4PSIwIiB5PSIwIiB3aWR0aD0iNzUwIiBoZWlnaHQ9IjUwIiBmaWxsPSJ3aGl0ZSIvPgogICAgICAgICAgICA8cmVjdCB4PSI3NTAiIHk9IjAiIHdpZHRoPSI1MCIgaGVpZ2h0PSI1MCIgZmlsbD0idXJsKCNmYWRlR3JhZGllbnQpIi8+CiAgICAgICAgPC9tYXNrPgogICAgPC9kZWZzPgogICAgPHBhdGggZD0iTTI1LDUwIFEwLDUwIDAsMjUgTDUwLDMgTDk3LDI1IEw3OTcsMjUgTDc5Nyw1MCBMMjUsNTAgWiIgZmlsbD0iI0YwRjBGMCIgc3Ryb2tlPSIjRTBFMEUwIiBzdHJva2Utd2lkdGg9IjEiIG1hc2s9InVybCgjZmFkZU1hc2spIi8+Cjwvc3ZnPgo=\" alt=\"Time alert close\"/>"
   ]
  },
  {
   "cell_type": "markdown",
   "id": "54b2bb29-1051-4ad4-a050-c5366e018f74",
   "metadata": {},
   "source": [
    "### End of Option 1: Create project programmatically\n",
    "Now you have provisioned a project template in your SageMaker environment. Navigate to the section **Configure the MLOps project**.\n",
    "\n",
    "---"
   ]
  },
  {
   "cell_type": "markdown",
   "id": "7792b450-40ea-47f8-9449-528148ae43f5",
   "metadata": {},
   "source": [
    "### Option 2: Create a project in Studio UI\n",
    "<div class=\"alert alert-info\"> 💡 <strong> Skip this section if you created a project programmatically </strong>"
   ]
  },
  {
   "cell_type": "markdown",
   "id": "26a0bcfd-94e3-4892-8199-6ca06593c0af",
   "metadata": {},
   "source": [
    "Follow the instructions in the Developer Guide – [Create a MLOps Project using Amazon SageMaker Studio or Studio Classic](https://docs.aws.amazon.com/sagemaker/latest/dg/sagemaker-projects-create.html). Choose the **Studio** option.\n",
    "\n",
    "For the template choose the **Model building and training**.\n",
    "In the **Project details** you need to provide a name and an optional project description. This template doesn't have any parameters.\n",
    "\n",
    "Choose **Create** and wait for the project to appear in the Projects list."
   ]
  },
  {
   "cell_type": "markdown",
   "id": "19f8a881-3e06-4497-8dce-e73dc6923ce4",
   "metadata": {},
   "source": [
    "### Resolve issues with project creation\n",
    "\n",
    "#### Project creation process stuck in pending\n",
    "If after 5 minutes the project creation banner is still on, close the Studio browser window and sign in Studio again.\n",
    "\n",
    "![](img/project-creation-pending.png)\n",
    "\n",
    "#### Error messages\n",
    "❗ If you see an error message similar to:\n",
    "```\n",
    "Your project couldn't be created\n",
    "Studio encountered an error when creating your project. Try recreating the project again.\n",
    "\n",
    "CodeBuild is not authorized to perform: sts:AssumeRole on arn:aws:iam::XXXX:role/service-role/AmazonSageMakerServiceCatalogProductsCodeBuildRole (Service: AWSCodeBuild; Status Code: 400; Error Code: InvalidInputException; Request ID: 4cf59a54-0c59-476a-a970-0ac656db4402; Proxy: null)\n",
    "```\n",
    "\n",
    "see steps 5-6 of [SageMaker Studio Permissions Required to Use Projects](https://docs.aws.amazon.com/sagemaker/latest/dg/sagemaker-projects-studio-updates.html). Make sure you have all required project roles listed in the **Apps** card under **Projects**. \n",
    "\n",
    "Alternatively, you can create the required roles by using the provided CloudFormation template [`cfn-templates/sagemaker-project-templates-roles.yaml`](cfn-templates/sagemaker-project-templates-roles.yaml). \n",
    "Run in the repository clone directory from the command line terminal where you have the corresponding permissions:\n",
    "\n",
    "```sh\n",
    "aws cloudformation deploy \\\n",
    "    --template-file cfn-templates/sagemaker-project-templates-roles.yaml \\\n",
    "    --stack-name sagemaker-project-template-roles \\\n",
    "    --capabilities CAPABILITY_IAM CAPABILITY_NAMED_IAM \\\n",
    "    --parameter-overrides \\\n",
    "    CreateCloudFormationRole=YES \\\n",
    "    CreateCodeBuildRole=YES \\\n",
    "    CreateCodePipelineRole=YES \\\n",
    "    CreateEventsRole=YES \\\n",
    "    CreateProductsExecutionRole=YES \n",
    "```"
   ]
  },
  {
   "cell_type": "markdown",
   "id": "d0675444-29b3-4db6-bf0c-cfec72426c41",
   "metadata": {},
   "source": [
    "### End of Option 2: Create a project in Studio UI\n",
    "Now when you have the project created, move to the section **Configure the MLOps project**.\n",
    "\n",
    "---"
   ]
  },
  {
   "cell_type": "markdown",
   "id": "976166a9-0769-4db8-924d-270b25d91acb",
   "metadata": {},
   "source": [
    "## Configure the MLOps project\n",
    "The project runs a provided default model building pipeline automatically as soon as it has been created. This pipeline is a sample placeholder in the project for your own custom pipeline. Ignore the default pipeline for the moment.\n",
    "The project templates deploys the following architecture in your AWS account:\n",
    "\n",
    "![](img/mlops-model-build-train.png)\n",
    "\n",
    "The main components are:\n",
    "1. The project template is made available through SageMaker Projects and AWS Service Catalog portfolio\n",
    "2. A CodePipeline pipeline with two stages - `Source` to download the source code from a CodeCommit repository and `Build` to create and execute a SageMaker pipeline\n",
    "3. A default SageMaker pipeline with model build, train, and register workflow\n",
    "4. A seed code repository in CodeCommit with a provided default version of a placeholder code"
   ]
  },
  {
   "cell_type": "markdown",
   "id": "7edd547c-b9ec-4902-b798-2e4ac6cae2c1",
   "metadata": {},
   "source": [
    "This project contains all the required code and the insfrastructure to implement an automated CI/CD pipeline from a pre-defined template. \n",
    "To start using the project with your pipeline, you need to complete the following steps:\n",
    "1. Clone the project CodeCommit repository to your notebook EBS volume\n",
    "2. Replace the ML pipeline template sample code with your actual pipeline construction code, as implemented in the step 3 notebook\n",
    "3. Modify the `codebuild-buildspec.yml` file to reference the correct Python module name and to set project parameters\n",
    "\n",
    "Next sections guide you through these steps. For detailed instructions and a hands-on example, refer to the development guide [SageMaker MLOps Project Walkthrough](https://docs.aws.amazon.com/sagemaker/latest/dg/sagemaker-projects-walkthrough.html).\n",
    "\n",
    "If you used the option 1 `boto3` to create an MLOps project, the `project_name` and `project_id` are set automatically. You can run the following code cell to print the values. If you followed the UI instructions to create a project, you must set the `project_name` manually."
   ]
  },
  {
   "cell_type": "code",
   "execution_count": null,
   "id": "7ff9414b-2dbd-4aa5-a96f-e43e2159b66f",
   "metadata": {
    "tags": []
   },
   "outputs": [],
   "source": [
    "try:\n",
    "    print(project_name)\n",
    "    print(project_id)\n",
    "except NameError:\n",
    "    print(\"+++++++++++++++++++++++++++++++++++++++++++++++++++++++++++++++++\")\n",
    "    print(\"You must set the project_name manually in the following code cell\")\n",
    "    print(\"+++++++++++++++++++++++++++++++++++++++++++++++++++++++++++++++++\")"
   ]
  },
  {
   "cell_type": "code",
   "execution_count": null,
   "id": "4d7e208b-c041-4b9d-ac59-7bc6dc072688",
   "metadata": {
    "tags": []
   },
   "outputs": [],
   "source": [
    "# project_name = \"<ENTER THE NAME OF THE CREATED PROJECT>\" # Keep commented out if you used option 1 to create a project\n",
    "region = sm.meta.region_name\n",
    "r = sm.describe_project(ProjectName=project_name)\n",
    "project_id = r['ProjectId']\n",
    "project_arn = r['ProjectArn']\n",
    "project_folder = f\"sagemaker-{project_name}-{project_id}-modelbuild\"\n",
    "project_repo_url = f\"codecommit::{region}://sagemaker-{project_name}-{project_id}-modelbuild\"\n",
    "\n",
    "print(f\"Project folder: {project_folder}\")\n",
    "print(f\"Project repo URL: {project_repo_url}\")"
   ]
  },
  {
   "cell_type": "markdown",
   "id": "e398fd92-8e76-43a0-9b61-3bb5291d880f",
   "metadata": {
    "tags": []
   },
   "source": [
    "### 1. Clone the project seed code to the JupyterLab file system\n",
    "You need to clone the project code from the CodeCommit repository by using terminal CLI.\n",
    "\n",
    "1. Open a new terminal window via **File** > **New** > **Terminal**\n",
    "2. Install `git-remote-codecommit` helper: ```pip install git-remote-codecommit```\n",
    "3. Clone the project repository: ```git clone <PROJECT REPO URL>```. Replace the `<PROJECT REPO URL>` with the actual project repo URL from the code cell above."
   ]
  },
  {
   "cell_type": "markdown",
   "id": "ccfe9536-fd10-4b43-9d63-bfc01090afa7",
   "metadata": {},
   "source": [
    "### 2. Replace pipeline construction code"
   ]
  },
  {
   "cell_type": "markdown",
   "id": "2982e5ab-98d0-4c44-b1c5-32dffbc1a4e3",
   "metadata": {},
   "source": [
    "The following steps are required to customize the project which contains the template code. The next code cell executes all the required steps, you don't need to do anything manually. The following text is for your information only.\n",
    "\n",
    "- The source code is in the folder `sagemaker-<project-name>-<project-id>-modelbuild`.\n",
    "- The original file `codebuild-buildspec.yml` is renamed to `codebuild-buildspec-original.yml`.\n",
    "- Project's code repository folder containing the pipeline code is renamed from `abalone` folder to `playerchurn`.\n",
    "- The original file with the template pipeline `pipeline.py` is renamed to `pipeline-original.py`.\n",
    "- Copy the `pipeline_steps` Python modules to the `pipelines` folder in the project's code repository folder.\n",
    "- Copy the `requirements.txt` created in the notebook 3 to the `pipelines` folder in the project's code repository folder.\n",
    "- Copy SageMaker Python SDK default configuration file `config.yaml` from the notebook 3 to the `pipelines` folder in the project's code repository folder."
   ]
  },
  {
   "cell_type": "code",
   "execution_count": null,
   "id": "34bf23b4-0635-4303-8682-98d0543af2ed",
   "metadata": {
    "tags": []
   },
   "outputs": [],
   "source": [
    "# see the workshop folder name\n",
    "!pwd"
   ]
  },
  {
   "cell_type": "code",
   "execution_count": null,
   "id": "0d6b5651-c5b9-466f-bc63-5a02a2f2841f",
   "metadata": {
    "tags": []
   },
   "outputs": [],
   "source": [
    "# if you local path for the workshop folder is different, set the correct absolute path to the variable workshop_folder\n",
    "workshop_folder = \"mlops-sagemaker-mlflow\""
   ]
  },
  {
   "cell_type": "code",
   "execution_count": null,
   "id": "c3e2ac0e-53fe-4e29-b362-ca4ef28aede0",
   "metadata": {
    "tags": []
   },
   "outputs": [],
   "source": [
    "!mkdir -p ~/{workshop_folder}/pipelines\n",
    "!mv ~/{project_folder}/codebuild-buildspec.yml ~/{project_folder}/codebuild-buildspec-original.yml\n",
    "!mv ~/{project_folder}/pipelines/abalone ~/{project_folder}/pipelines/playerchurn\n",
    "!cp ~/{workshop_folder}/requirements.txt ~/{project_folder}\n",
    "!cp ~/{workshop_folder}/config.yaml ~/{project_folder}"
   ]
  },
  {
   "cell_type": "markdown",
   "id": "771848d6-4fdc-4f07-b363-b1d79ad0735c",
   "metadata": {},
   "source": [
    "Test the pipeline locally before running remotely to see if everything works."
   ]
  },
  {
   "cell_type": "code",
   "execution_count": null,
   "id": "84c4a162-c079-4ca0-b1eb-fee45307d061",
   "metadata": {},
   "outputs": [],
   "source": [
    "# Variables to be used in the CICD build pipeline.\n",
    "region=\"us-east-1\"\n",
    "feature_group_name=\"\" # replace feature group with the one created in the previous lab.\n",
    "bucket_name=\"\" # replace the S3 bucket name with the one created for this workshop. i.e sagemaker-[region]-[aws account id]\n",
    "bucket_prefix=\"player-churn/xgboost\"\n",
    "experiment_name=\"player-churn-model-build-pipeline\"\n",
    "train_instance_type=\"ml.m5.xlarge\"\n",
    "test_score_threshold=0.75\n",
    "model_package_group_name=\"player-churn-model-group\"\n",
    "model_approval_status=\"PendingManualApproval\"\n",
    "mlflow_tracking_server_arn=\"\" # Provide a valid mlflow tracking server ARN. You can find the value in the output from 00-start-here.ipynb\n",
    "pipeline_name = \"Player-Churn-Model-Training-Pipeline\" # replace the value with the name of the training pipeline if it is different from the value given in previous lab."
   ]
  },
  {
   "cell_type": "code",
   "execution_count": null,
   "id": "ec17dfba-31c4-4898-b17e-079ee4171cbf",
   "metadata": {},
   "outputs": [],
   "source": [
    "assert len(feature_group_name) > 0\n",
    "assert len(bucket_name) > 0\n",
    "assert len(mlflow_tracking_server_arn) > 0\n",
    "assert len(pipeline_name) > 0"
   ]
  },
  {
   "cell_type": "code",
   "execution_count": null,
   "id": "a2f7f9e9-d1ec-42f5-8d8b-e3ecd2876203",
   "metadata": {},
   "outputs": [],
   "source": [
    "%store model_package_group_name\n",
    "%store region\n",
    "%store bucket_name\n",
    "%store bucket_prefix"
   ]
  },
  {
   "cell_type": "code",
   "execution_count": null,
   "id": "d7ced205-296e-4029-b3ef-29484dd67eec",
   "metadata": {},
   "outputs": [],
   "source": [
    "response = sm.start_pipeline_execution(\n",
    "    PipelineName=pipeline_name,\n",
    "    PipelineParameters=[\n",
    "        {\n",
    "            'Name': 'region',\n",
    "            'Value': region\n",
    "        },\n",
    "        {\n",
    "            'Name': 'feature_group_name',\n",
    "            'Value': feature_group_name\n",
    "        },\n",
    "        {\n",
    "            'Name': 'bucket_name',\n",
    "            'Value': bucket_name\n",
    "        },\n",
    "        {\n",
    "            'Name': 'bucket_prefix',\n",
    "            'Value': bucket_prefix\n",
    "        },\n",
    "        {\n",
    "            'Name': 'experiment_name',\n",
    "            'Value': experiment_name\n",
    "        },\n",
    "        {\n",
    "            'Name': 'train_instance_type',\n",
    "            'Value': train_instance_type\n",
    "        },\n",
    "        {\n",
    "            'Name': 'test_score_threshold',\n",
    "            'Value': str(test_score_threshold)\n",
    "        },\n",
    "        {\n",
    "            'Name': 'model_package_group_name',\n",
    "            'Value': model_package_group_name\n",
    "        },\n",
    "        {\n",
    "            'Name': 'model_approval_status',\n",
    "            'Value': model_approval_status\n",
    "        },\n",
    "        {\n",
    "            'Name': 'mlflow_tracking_server_arn',\n",
    "            'Value': mlflow_tracking_server_arn\n",
    "        }\n",
    "    ],\n",
    "    \n",
    ")"
   ]
  },
  {
   "cell_type": "markdown",
   "id": "bfef962b-d153-4966-9c0b-510ca207037b",
   "metadata": {},
   "source": [
    "Wait for the pipeline to complete."
   ]
  },
  {
   "cell_type": "code",
   "execution_count": null,
   "id": "87fc4f4b-9d75-4707-98b0-7594a5ffd949",
   "metadata": {},
   "outputs": [],
   "source": [
    "pipeline_exec_id = response[\"PipelineExecutionArn\"]\n",
    "describe_pipeline_response = sm.describe_pipeline_execution(\n",
    "    PipelineExecutionArn=pipeline_exec_id\n",
    ")\n",
    "\n",
    "pipeline_execution_status = describe_pipeline_response[\"PipelineExecutionStatus\"]\n",
    "while True:\n",
    "   if pipeline_execution_status in ['Stopped', 'Failed', 'Succeeded']:\n",
    "       print(f\"Pipeline execution completed with status: {pipeline_execution_status}\")\n",
    "       break\n",
    "   print(f\"Pipeline execution status: {pipeline_execution_status}\")\n",
    "   sleep(10)\n",
    "   describe_pipeline_response = sm.describe_pipeline_execution(PipelineExecutionArn=pipeline_exec_id)\n",
    "   pipeline_execution_status = describe_pipeline_response[\"PipelineExecutionStatus\"]"
   ]
  },
  {
   "cell_type": "markdown",
   "id": "204a1f87-6718-4350-944d-51b340e93fc2",
   "metadata": {},
   "source": [
    "At this point you have tested locally that the pipeline construction code works and it creates a pipeline. You can see this pipeline in Studio **Pipelines** widget. Now you ready to create a CI/CD pipeline."
   ]
  },
  {
   "cell_type": "markdown",
   "id": "3dd662c7-0411-4b2f-9234-e60ba81e2bc0",
   "metadata": {},
   "source": [
    "#### Attach the model package group to the project\n",
    "Project-owned resources are automatically tagged with `sagemaker:project-name` and `sagemaker:project-id` tags for cost control, attribute-based security control, and governance. \n",
    "Since the model package group already exists in the model registry, you need to tag it to attach to this project. The following code cell calls `AddTags` API to set project tags to the model package group."
   ]
  },
  {
   "cell_type": "code",
   "execution_count": null,
   "id": "f74be4dc-c7ed-4fc0-918d-851caaf8fa78",
   "metadata": {
    "tags": []
   },
   "outputs": [],
   "source": [
    "model_package_group_arn = sm.describe_model_package_group(ModelPackageGroupName=model_package_group_name).get(\"ModelPackageGroupArn\")\n",
    "\n",
    "if model_package_group_arn:\n",
    "    print(f\"Adding tags {project_arn.split('/')[-1]} and {project_id} for model package group {model_package_group_arn}\")\n",
    "    r = sm.add_tags(\n",
    "        ResourceArn=model_package_group_arn,\n",
    "        Tags=[\n",
    "            {\n",
    "                'Key': 'sagemaker:project-name',\n",
    "                'Value': project_arn.split(\"/\")[-1]\n",
    "            },\n",
    "            {\n",
    "                'Key': 'sagemaker:project-id',\n",
    "                'Value': project_id\n",
    "            },\n",
    "        ]\n",
    "    )\n",
    "    print(r)\n",
    "else:\n",
    "    print(f\"The model package group {model_package_group_name} doesn't exist\")\n",
    "    \n",
    "sm.list_tags(ResourceArn=model_package_group_arn)[\"Tags\"]"
   ]
  },
  {
   "cell_type": "markdown",
   "id": "f760f4bd-c5d5-4bf7-b56c-11e70fa981e1",
   "metadata": {},
   "source": [
    "### 3. Modify the build specification file\n",
    "In the following cell, we'll modify the `codebuild-buildspec.yml` file in the project folder to reflect the new name of Python module with your pipeline and set other project-specific parameters."
   ]
  },
  {
   "cell_type": "markdown",
   "id": "07928bfd-570a-4be9-a21e-7a1160e23b71",
   "metadata": {},
   "source": [
    "You need to pass the following parameters to a pipeline creation script:\n",
    "\n",
    "- region - the region where the pipeline is run\n",
    "- feature_group_name - name of the feature group name\n",
    "- bucket_name - name of the S3 bucket to use for storing the artifacts created in the pipeline\n",
    "- bucket_prefix - S3 bucket prefix for storing the artifacts.\n",
    "- experiment_name - The name of the experiment for organizing pipeline runs in the MLFlow tracking server\n",
    "- train_instance_type - instance to use for model training\n",
    "- test_score_threshold - minimum test score threshold to evaluate whether to register the model in the registry.\n",
    "- model_package_group_name - name of the model package group for the model version.\n",
    "- model_approval_status - default model approval status when model is registered in Model Registry.\n",
    "- mlflow_tracking_server_arn - a valid MLFlow tracking server ARN\n"
   ]
  },
  {
   "cell_type": "code",
   "execution_count": null,
   "id": "fee92f0c-44d6-42a6-856e-c062b67d7e5e",
   "metadata": {},
   "outputs": [],
   "source": [
    "code_build_buildspec_template = r\"\"\"\n",
    "\n",
    "version: 0.2\n",
    "\n",
    "phases:\n",
    "  install:\n",
    "    runtime-versions:\n",
    "      python: 3.10\n",
    "    commands:\n",
    "      - pip install --upgrade --force-reinstall . \"awscli>1.20.30\"\n",
    "      - pip install mlflow==2.13.2 sagemaker-mlflow s3fs xgboost\n",
    "    \n",
    "  build:\n",
    "    commands:\n",
    "      - export SAGEMAKER_USER_CONFIG_OVERRIDE=\"./config.yaml\"\n",
    "      - export PYTHONUNBUFFERED=TRUE\n",
    "      - export SAGEMAKER_PROJECT_NAME_ID=\"${SAGEMAKER_PROJECT_NAME}-${SAGEMAKER_PROJECT_ID}\"\n",
    "      - |\n",
    "        run-pipeline \\\n",
    "          --role-arn $SAGEMAKER_PIPELINE_ROLE_ARN \\\n",
    "          --tags \"[{\\\"Key\\\":\\\"sagemaker:project-name\\\",\\\"Value\\\":\\\"${SAGEMAKER_PROJECT_NAME}\\\"}, {\\\"Key\\\":\\\"sagemaker:project-id\\\", \\\"Value\\\":\\\"${SAGEMAKER_PROJECT_ID}\\\"}]\" \\\n",
    "          --pipeline-name \"{{PIPELINE_NAME}}\" \\\n",
    "          --kwargs \"{ \\\n",
    "                \\\"region\\\":\\\"{{REGION}}\\\", \\\n",
    "                \\\"feature_group_name\\\":\\\"{{FEATURE_GROUP_NAME}}\\\",\\\n",
    "                \\\"bucket_name\\\":\\\"{{BUCKET_NAME}}\\\",\\\n",
    "                \\\"bucket_prefix\\\":\\\"{{BUCKET_PREFIX}}\\\",\\\n",
    "                \\\"experiment_name\\\":\\\"{{EXPERIMENT_NAME}}\\\", \\\n",
    "                \\\"train_instance_type\\\":\\\"{{TRAIN_INSTANCE_TYPE}}\\\", \\\n",
    "                \\\"test_score_threshold\\\":\\\"{{TEST_SCORE_THRESHOLD}}\\\",\\\n",
    "                \\\"model_package_group_name\\\":\\\"{{MODEL_PACKAGE_GROUP_NAME}}\\\",\\\n",
    "                \\\"model_approval_status\\\":\\\"{{MODEL_APPROVAL_STATUS}}\\\",\\\n",
    "                \\\"mlflow_tracking_server_arn\\\":\\\"{{MLFLOW_TRACKING_SERVER_ARN}}\\\"\\\n",
    "                    }\"\n",
    "      - echo \"Create/update of the SageMaker Pipeline and a pipeline execution completed.\"\n",
    "\"\"\""
   ]
  },
  {
   "cell_type": "code",
   "execution_count": null,
   "id": "0228eb79-776a-4878-94be-a470bfd714e3",
   "metadata": {},
   "outputs": [],
   "source": [
    "code_build_buildspec = code_build_buildspec_template.replace(\"{{REGION}}\", region)\n",
    "code_build_buildspec = code_build_buildspec.replace(\"{{PIPELINE_NAME}}\", pipeline_name)\n",
    "code_build_buildspec = code_build_buildspec.replace(\"{{FEATURE_GROUP_NAME}}\", feature_group_name)\n",
    "code_build_buildspec = code_build_buildspec.replace(\"{{BUCKET_NAME}}\", bucket_name)\n",
    "code_build_buildspec = code_build_buildspec.replace(\"{{BUCKET_PREFIX}}\", bucket_prefix)\n",
    "code_build_buildspec = code_build_buildspec.replace(\"{{EXPERIMENT_NAME}}\", experiment_name)\n",
    "code_build_buildspec = code_build_buildspec.replace(\"{{TRAIN_INSTANCE_TYPE}}\", train_instance_type)\n",
    "code_build_buildspec = code_build_buildspec.replace(\"{{TEST_SCORE_THRESHOLD}}\", str(test_score_threshold))\n",
    "code_build_buildspec = code_build_buildspec.replace(\"{{MODEL_PACKAGE_GROUP_NAME}}\", model_package_group_name)\n",
    "code_build_buildspec = code_build_buildspec.replace(\"{{MODEL_APPROVAL_STATUS}}\", model_approval_status)\n",
    "code_build_buildspec = code_build_buildspec.replace(\"{{MLFLOW_TRACKING_SERVER_ARN}}\", mlflow_tracking_server_arn)"
   ]
  },
  {
   "cell_type": "code",
   "execution_count": null,
   "id": "078fcf52-c101-40e1-ba49-13dbabbee1c6",
   "metadata": {},
   "outputs": [],
   "source": [
    "with open(\"codebuild-buildspec.yml\", \"w\") as f:\n",
    "    f.write(code_build_buildspec)"
   ]
  },
  {
   "cell_type": "markdown",
   "id": "ffd4a948-8a46-4d75-b15a-c15d3d4873c4",
   "metadata": {},
   "source": [
    "Copy the `codebuild-buildspec.yml` file from the workshop folder to the project's code repository folder:"
   ]
  },
  {
   "cell_type": "code",
   "execution_count": null,
   "id": "f521809e-b0fe-46a7-b49f-5afea0ab6ad2",
   "metadata": {
    "tags": []
   },
   "outputs": [],
   "source": [
    "!cp ~/{workshop_folder}/codebuild-buildspec.yml ~/{project_folder}/codebuild-buildspec.yml\n",
    "!cp ~/{workshop_folder}/run_pipeline.py ~/{project_folder}/pipelines/run_pipeline.py"
   ]
  },
  {
   "cell_type": "markdown",
   "id": "e71c081b-75f2-4c06-a892-8348e9d0cd91",
   "metadata": {},
   "source": [
    "### 4. Fix the `setup.py` file\n",
    "Finally, open the `setup.py` file in the project's code repository folder and replace the line `required_packages = [\"sagemaker==2.XX.0\"]` with `required_packages = [\"sagemaker\"]`. Save your changes.\n",
    "\n",
    "Why did you do this change? The pinned sagemaker library version is a bug and is going to be fixed in future releases of the built-in SageMaker project templates. For now you fix this template file manually. Keep in mind, that the built-in project templates are for your convenience only and to demostrate how to use SageMaker project mechanism to package and provision your own custom MLOps projects.\n",
    "\n",
    "Now you are ready to launch the CI/CD model building pipeline.\n",
    "\n",
    "Everything is ready to run a CI/CD pipeline."
   ]
  },
  {
   "cell_type": "markdown",
   "id": "9fcfd6d3-2116-42e9-988b-e377fcd4b912",
   "metadata": {},
   "source": [
    "---"
   ]
  },
  {
   "cell_type": "markdown",
   "id": "d4ee8789-1d8f-4a06-a958-8c244fa9a869",
   "metadata": {},
   "source": [
    "## Run the CI/CD for the model building pipeline\n",
    "To launch the CI/CD for the model building pipeline you need to push the changed code into the project CodeCommit repository.\n",
    "\n",
    "<div class=\"alert alert-info\">Make sure you are in the folder that contains the repository code in JupyterLab terminal when running git commands. The folder name looks like <code>sagemaker-[project-name]-[project-id]-modelbuild</code>.</div>\n",
    "\n",
    "The cell below prints the required `cd` command with the correct folder name:"
   ]
  },
  {
   "cell_type": "code",
   "execution_count": null,
   "id": "982c5ccf-6279-4c53-bfb3-8ab6cf090155",
   "metadata": {
    "tags": []
   },
   "outputs": [],
   "source": [
    "print(f\"cd ~/{project_folder}\")"
   ]
  },
  {
   "cell_type": "markdown",
   "id": "eee28830-a684-4329-a4f3-892a9c465805",
   "metadata": {},
   "source": [
    "Open a system terminal window via the JupyterLab menu **File** > **New** > **Terminal** and enter the following commands. Keep `user.email` and `user.name` or replace with your data.\n",
    "```sh\n",
    "cd ~/<PROJECT-FOLDER>/<PROJECT-CODE-REPOSITORY-FOLDER>\n",
    "\n",
    "git config --global user.email \"you@example.com\"\n",
    "git config --global user.name \"Your Name\"\n",
    "  \n",
    "git add -A\n",
    "git commit -am \"customize project\"\n",
    "git push\n",
    "```\n",
    "\n",
    "After pushing your code changes, the project initiates a run of the CodePipeline pipeline that constructs, upcerts, and executes the SageMaker model building pipeline. This new pipeline execution creates a new model version in the model package group in the SageMaker model registry.\n",
    "\n",
    "You can follow up the execution of the pipeline in the Studio **Pipelines** widget.\n",
    "\n",
    "Wait until the pipeline execution finishes. The execution takes about 15 minutes to complete."
   ]
  },
  {
   "cell_type": "markdown",
   "id": "a30f9944-4659-4e53-9d99-10a58eac4cdf",
   "metadata": {},
   "source": [
    "## View the details of a new model version\n",
    "After the pipeline execution finished, a new model version must be registered in the model registry. To see the model version details:\n",
    "\n",
    "1. In the Studio sidebar, choose the **Models** widget\n",
    "2. Click on the name of the model package group you created in the previous lab to open the model group\n",
    "3. In the list of model versions, select the latest version of the model\n",
    "\n",
    "On the model version tab that opens, you can browse activity, [model version details](https://docs.aws.amazon.com/sagemaker/latest/dg/model-registry-details.html), and [data lineage](https://docs.aws.amazon.com/sagemaker/latest/dg/lineage-tracking.html). \n",
    "\n",
    "![](img/model-version-details.png)\n",
    "\n",
    "In a real-world project you add various model attributes and additional model version metadata such as [model quality metrics](https://docs.aws.amazon.com/sagemaker/latest/dg/model-monitor-model-quality-metrics.html), [explainability](https://docs.aws.amazon.com/sagemaker/latest/dg/clarify-model-explainability.html) and [bias](https://docs.aws.amazon.com/sagemaker/latest/dg/clarify-measure-post-training-bias.html) reports, load test data, and [inference recommender](https://docs.aws.amazon.com/sagemaker/latest/dg/inference-recommender.html)."
   ]
  },
  {
   "cell_type": "markdown",
   "id": "dc353ff3-079e-4947-bae6-7ddb7635f670",
   "metadata": {},
   "source": [
    "To see the model package version in the Studio UI click on the link constructed by the code cell below. Note that you need to wait until the pipeline execution finishes to see the latest registered version of the model package."
   ]
  },
  {
   "cell_type": "markdown",
   "id": "0b462a7b-d27c-401a-919f-0785617d1361",
   "metadata": {},
   "source": [
    "## Summary\n",
    "In this notebook you implement a CI/CD pipeline with the following features:\n",
    "- Model building ML pipeline is under the source control in a CodeCommit repository\n",
    "- Every push into the CodeCommit repository launches a new CodeBuild build which constructs, upserts, and executes the ML pipeline\n",
    "- The whole e2e model development process is automated now, including the model building pipeline\n",
    "- SageMaker project is a logical construct in Studio which has the metadata about related ML pipelines, repositories, models, experiments, and inference endpoints\n",
    "\n",
    "---"
   ]
  },
  {
   "cell_type": "markdown",
   "id": "86fcc951-0ea2-43f3-89f0-5b2982334d11",
   "metadata": {},
   "source": [
    "## Continue with the step 7\n",
    "open the step 7 [notebook](07-sagemaker-deploy.ipynb)."
   ]
  },
  {
   "cell_type": "markdown",
   "id": "4afba0bb-5a1d-4399-b3bc-3664be5e40b9",
   "metadata": {},
   "source": [
    "## Further development ideas for other projects\n",
    "- You can use a SageMaker-provided [MLOps template for model building, training, and deployment with third-party Git repositories using Jenkins](https://docs.aws.amazon.com/sagemaker/latest/dg/sagemaker-projects-templates-sm.html#sagemaker-projects-templates-git-jenkins)\n",
    "- Create a [custom SageMaker project template](https://docs.aws.amazon.com/sagemaker/latest/dg/sagemaker-projects-templates-custom.html) to cover your specific project requirements"
   ]
  },
  {
   "cell_type": "markdown",
   "id": "06e55501-6c9c-40a7-89f3-04530e147a26",
   "metadata": {},
   "source": [
    "## Additional resources\n",
    "- [Amazon SageMaker Pipelines lab in SageMaker Immersion Day](https://catalog.us-east-1.prod.workshops.aws/workshops/63069e26-921c-4ce1-9cc7-dd882ff62575/en-US/lab6)\n",
    "- [Enhance your machine learning development by using a modular architecture with Amazon SageMaker projects](https://aws.amazon.com/blogs/machine-learning/enhance-your-machine-learning-development-by-using-a-modular-architecture-with-amazon-sagemaker-projects/)\n",
    "- [Dive deep into automating MLOps](https://www.youtube.com/watch?v=3_cHnk9VSfQ)\n",
    "- [SageMaker MLOps Project Walkthrough](https://docs.aws.amazon.com/sagemaker/latest/dg/sagemaker-projects-walkthrough.html)\n",
    "- [`aws-samples` GitHub repository with custom project templates examples](https://github.com/aws-samples/sagemaker-custom-project-templates)"
   ]
  },
  {
   "cell_type": "markdown",
   "id": "53f175fc-3eea-4777-9047-329c5098eed7",
   "metadata": {},
   "source": [
    "# Shutdown kernel"
   ]
  },
  {
   "cell_type": "code",
   "execution_count": null,
   "id": "feb3ee45-d774-4d7d-8954-6f5479e20090",
   "metadata": {},
   "outputs": [],
   "source": [
    "%%html\n",
    "\n",
    "<p><b>Shutting down your kernel for this notebook to release resources.</b></p>\n",
    "<button class=\"sm-command-button\" data-commandlinker-command=\"kernelmenu:shutdown\" style=\"display:none;\">Shutdown Kernel</button>\n",
    "        \n",
    "<script>\n",
    "try {\n",
    "    els = document.getElementsByClassName(\"sm-command-button\");\n",
    "    els[0].click();\n",
    "}\n",
    "catch(err) {\n",
    "    // NoOp\n",
    "}    \n",
    "</script>"
   ]
  }
 ],
 "metadata": {
  "availableInstances": [
   {
    "_defaultOrder": 0,
    "_isFastLaunch": true,
    "category": "General purpose",
    "gpuNum": 0,
    "hideHardwareSpecs": false,
    "memoryGiB": 4,
    "name": "ml.t3.medium",
    "vcpuNum": 2
   },
   {
    "_defaultOrder": 1,
    "_isFastLaunch": false,
    "category": "General purpose",
    "gpuNum": 0,
    "hideHardwareSpecs": false,
    "memoryGiB": 8,
    "name": "ml.t3.large",
    "vcpuNum": 2
   },
   {
    "_defaultOrder": 2,
    "_isFastLaunch": false,
    "category": "General purpose",
    "gpuNum": 0,
    "hideHardwareSpecs": false,
    "memoryGiB": 16,
    "name": "ml.t3.xlarge",
    "vcpuNum": 4
   },
   {
    "_defaultOrder": 3,
    "_isFastLaunch": false,
    "category": "General purpose",
    "gpuNum": 0,
    "hideHardwareSpecs": false,
    "memoryGiB": 32,
    "name": "ml.t3.2xlarge",
    "vcpuNum": 8
   },
   {
    "_defaultOrder": 4,
    "_isFastLaunch": true,
    "category": "General purpose",
    "gpuNum": 0,
    "hideHardwareSpecs": false,
    "memoryGiB": 8,
    "name": "ml.m5.large",
    "vcpuNum": 2
   },
   {
    "_defaultOrder": 5,
    "_isFastLaunch": false,
    "category": "General purpose",
    "gpuNum": 0,
    "hideHardwareSpecs": false,
    "memoryGiB": 16,
    "name": "ml.m5.xlarge",
    "vcpuNum": 4
   },
   {
    "_defaultOrder": 6,
    "_isFastLaunch": false,
    "category": "General purpose",
    "gpuNum": 0,
    "hideHardwareSpecs": false,
    "memoryGiB": 32,
    "name": "ml.m5.2xlarge",
    "vcpuNum": 8
   },
   {
    "_defaultOrder": 7,
    "_isFastLaunch": false,
    "category": "General purpose",
    "gpuNum": 0,
    "hideHardwareSpecs": false,
    "memoryGiB": 64,
    "name": "ml.m5.4xlarge",
    "vcpuNum": 16
   },
   {
    "_defaultOrder": 8,
    "_isFastLaunch": false,
    "category": "General purpose",
    "gpuNum": 0,
    "hideHardwareSpecs": false,
    "memoryGiB": 128,
    "name": "ml.m5.8xlarge",
    "vcpuNum": 32
   },
   {
    "_defaultOrder": 9,
    "_isFastLaunch": false,
    "category": "General purpose",
    "gpuNum": 0,
    "hideHardwareSpecs": false,
    "memoryGiB": 192,
    "name": "ml.m5.12xlarge",
    "vcpuNum": 48
   },
   {
    "_defaultOrder": 10,
    "_isFastLaunch": false,
    "category": "General purpose",
    "gpuNum": 0,
    "hideHardwareSpecs": false,
    "memoryGiB": 256,
    "name": "ml.m5.16xlarge",
    "vcpuNum": 64
   },
   {
    "_defaultOrder": 11,
    "_isFastLaunch": false,
    "category": "General purpose",
    "gpuNum": 0,
    "hideHardwareSpecs": false,
    "memoryGiB": 384,
    "name": "ml.m5.24xlarge",
    "vcpuNum": 96
   },
   {
    "_defaultOrder": 12,
    "_isFastLaunch": false,
    "category": "General purpose",
    "gpuNum": 0,
    "hideHardwareSpecs": false,
    "memoryGiB": 8,
    "name": "ml.m5d.large",
    "vcpuNum": 2
   },
   {
    "_defaultOrder": 13,
    "_isFastLaunch": false,
    "category": "General purpose",
    "gpuNum": 0,
    "hideHardwareSpecs": false,
    "memoryGiB": 16,
    "name": "ml.m5d.xlarge",
    "vcpuNum": 4
   },
   {
    "_defaultOrder": 14,
    "_isFastLaunch": false,
    "category": "General purpose",
    "gpuNum": 0,
    "hideHardwareSpecs": false,
    "memoryGiB": 32,
    "name": "ml.m5d.2xlarge",
    "vcpuNum": 8
   },
   {
    "_defaultOrder": 15,
    "_isFastLaunch": false,
    "category": "General purpose",
    "gpuNum": 0,
    "hideHardwareSpecs": false,
    "memoryGiB": 64,
    "name": "ml.m5d.4xlarge",
    "vcpuNum": 16
   },
   {
    "_defaultOrder": 16,
    "_isFastLaunch": false,
    "category": "General purpose",
    "gpuNum": 0,
    "hideHardwareSpecs": false,
    "memoryGiB": 128,
    "name": "ml.m5d.8xlarge",
    "vcpuNum": 32
   },
   {
    "_defaultOrder": 17,
    "_isFastLaunch": false,
    "category": "General purpose",
    "gpuNum": 0,
    "hideHardwareSpecs": false,
    "memoryGiB": 192,
    "name": "ml.m5d.12xlarge",
    "vcpuNum": 48
   },
   {
    "_defaultOrder": 18,
    "_isFastLaunch": false,
    "category": "General purpose",
    "gpuNum": 0,
    "hideHardwareSpecs": false,
    "memoryGiB": 256,
    "name": "ml.m5d.16xlarge",
    "vcpuNum": 64
   },
   {
    "_defaultOrder": 19,
    "_isFastLaunch": false,
    "category": "General purpose",
    "gpuNum": 0,
    "hideHardwareSpecs": false,
    "memoryGiB": 384,
    "name": "ml.m5d.24xlarge",
    "vcpuNum": 96
   },
   {
    "_defaultOrder": 20,
    "_isFastLaunch": false,
    "category": "General purpose",
    "gpuNum": 0,
    "hideHardwareSpecs": true,
    "memoryGiB": 0,
    "name": "ml.geospatial.interactive",
    "supportedImageNames": [
     "sagemaker-geospatial-v1-0"
    ],
    "vcpuNum": 0
   },
   {
    "_defaultOrder": 21,
    "_isFastLaunch": true,
    "category": "Compute optimized",
    "gpuNum": 0,
    "hideHardwareSpecs": false,
    "memoryGiB": 4,
    "name": "ml.c5.large",
    "vcpuNum": 2
   },
   {
    "_defaultOrder": 22,
    "_isFastLaunch": false,
    "category": "Compute optimized",
    "gpuNum": 0,
    "hideHardwareSpecs": false,
    "memoryGiB": 8,
    "name": "ml.c5.xlarge",
    "vcpuNum": 4
   },
   {
    "_defaultOrder": 23,
    "_isFastLaunch": false,
    "category": "Compute optimized",
    "gpuNum": 0,
    "hideHardwareSpecs": false,
    "memoryGiB": 16,
    "name": "ml.c5.2xlarge",
    "vcpuNum": 8
   },
   {
    "_defaultOrder": 24,
    "_isFastLaunch": false,
    "category": "Compute optimized",
    "gpuNum": 0,
    "hideHardwareSpecs": false,
    "memoryGiB": 32,
    "name": "ml.c5.4xlarge",
    "vcpuNum": 16
   },
   {
    "_defaultOrder": 25,
    "_isFastLaunch": false,
    "category": "Compute optimized",
    "gpuNum": 0,
    "hideHardwareSpecs": false,
    "memoryGiB": 72,
    "name": "ml.c5.9xlarge",
    "vcpuNum": 36
   },
   {
    "_defaultOrder": 26,
    "_isFastLaunch": false,
    "category": "Compute optimized",
    "gpuNum": 0,
    "hideHardwareSpecs": false,
    "memoryGiB": 96,
    "name": "ml.c5.12xlarge",
    "vcpuNum": 48
   },
   {
    "_defaultOrder": 27,
    "_isFastLaunch": false,
    "category": "Compute optimized",
    "gpuNum": 0,
    "hideHardwareSpecs": false,
    "memoryGiB": 144,
    "name": "ml.c5.18xlarge",
    "vcpuNum": 72
   },
   {
    "_defaultOrder": 28,
    "_isFastLaunch": false,
    "category": "Compute optimized",
    "gpuNum": 0,
    "hideHardwareSpecs": false,
    "memoryGiB": 192,
    "name": "ml.c5.24xlarge",
    "vcpuNum": 96
   },
   {
    "_defaultOrder": 29,
    "_isFastLaunch": true,
    "category": "Accelerated computing",
    "gpuNum": 1,
    "hideHardwareSpecs": false,
    "memoryGiB": 16,
    "name": "ml.g4dn.xlarge",
    "vcpuNum": 4
   },
   {
    "_defaultOrder": 30,
    "_isFastLaunch": false,
    "category": "Accelerated computing",
    "gpuNum": 1,
    "hideHardwareSpecs": false,
    "memoryGiB": 32,
    "name": "ml.g4dn.2xlarge",
    "vcpuNum": 8
   },
   {
    "_defaultOrder": 31,
    "_isFastLaunch": false,
    "category": "Accelerated computing",
    "gpuNum": 1,
    "hideHardwareSpecs": false,
    "memoryGiB": 64,
    "name": "ml.g4dn.4xlarge",
    "vcpuNum": 16
   },
   {
    "_defaultOrder": 32,
    "_isFastLaunch": false,
    "category": "Accelerated computing",
    "gpuNum": 1,
    "hideHardwareSpecs": false,
    "memoryGiB": 128,
    "name": "ml.g4dn.8xlarge",
    "vcpuNum": 32
   },
   {
    "_defaultOrder": 33,
    "_isFastLaunch": false,
    "category": "Accelerated computing",
    "gpuNum": 4,
    "hideHardwareSpecs": false,
    "memoryGiB": 192,
    "name": "ml.g4dn.12xlarge",
    "vcpuNum": 48
   },
   {
    "_defaultOrder": 34,
    "_isFastLaunch": false,
    "category": "Accelerated computing",
    "gpuNum": 1,
    "hideHardwareSpecs": false,
    "memoryGiB": 256,
    "name": "ml.g4dn.16xlarge",
    "vcpuNum": 64
   },
   {
    "_defaultOrder": 35,
    "_isFastLaunch": false,
    "category": "Accelerated computing",
    "gpuNum": 1,
    "hideHardwareSpecs": false,
    "memoryGiB": 61,
    "name": "ml.p3.2xlarge",
    "vcpuNum": 8
   },
   {
    "_defaultOrder": 36,
    "_isFastLaunch": false,
    "category": "Accelerated computing",
    "gpuNum": 4,
    "hideHardwareSpecs": false,
    "memoryGiB": 244,
    "name": "ml.p3.8xlarge",
    "vcpuNum": 32
   },
   {
    "_defaultOrder": 37,
    "_isFastLaunch": false,
    "category": "Accelerated computing",
    "gpuNum": 8,
    "hideHardwareSpecs": false,
    "memoryGiB": 488,
    "name": "ml.p3.16xlarge",
    "vcpuNum": 64
   },
   {
    "_defaultOrder": 38,
    "_isFastLaunch": false,
    "category": "Accelerated computing",
    "gpuNum": 8,
    "hideHardwareSpecs": false,
    "memoryGiB": 768,
    "name": "ml.p3dn.24xlarge",
    "vcpuNum": 96
   },
   {
    "_defaultOrder": 39,
    "_isFastLaunch": false,
    "category": "Memory Optimized",
    "gpuNum": 0,
    "hideHardwareSpecs": false,
    "memoryGiB": 16,
    "name": "ml.r5.large",
    "vcpuNum": 2
   },
   {
    "_defaultOrder": 40,
    "_isFastLaunch": false,
    "category": "Memory Optimized",
    "gpuNum": 0,
    "hideHardwareSpecs": false,
    "memoryGiB": 32,
    "name": "ml.r5.xlarge",
    "vcpuNum": 4
   },
   {
    "_defaultOrder": 41,
    "_isFastLaunch": false,
    "category": "Memory Optimized",
    "gpuNum": 0,
    "hideHardwareSpecs": false,
    "memoryGiB": 64,
    "name": "ml.r5.2xlarge",
    "vcpuNum": 8
   },
   {
    "_defaultOrder": 42,
    "_isFastLaunch": false,
    "category": "Memory Optimized",
    "gpuNum": 0,
    "hideHardwareSpecs": false,
    "memoryGiB": 128,
    "name": "ml.r5.4xlarge",
    "vcpuNum": 16
   },
   {
    "_defaultOrder": 43,
    "_isFastLaunch": false,
    "category": "Memory Optimized",
    "gpuNum": 0,
    "hideHardwareSpecs": false,
    "memoryGiB": 256,
    "name": "ml.r5.8xlarge",
    "vcpuNum": 32
   },
   {
    "_defaultOrder": 44,
    "_isFastLaunch": false,
    "category": "Memory Optimized",
    "gpuNum": 0,
    "hideHardwareSpecs": false,
    "memoryGiB": 384,
    "name": "ml.r5.12xlarge",
    "vcpuNum": 48
   },
   {
    "_defaultOrder": 45,
    "_isFastLaunch": false,
    "category": "Memory Optimized",
    "gpuNum": 0,
    "hideHardwareSpecs": false,
    "memoryGiB": 512,
    "name": "ml.r5.16xlarge",
    "vcpuNum": 64
   },
   {
    "_defaultOrder": 46,
    "_isFastLaunch": false,
    "category": "Memory Optimized",
    "gpuNum": 0,
    "hideHardwareSpecs": false,
    "memoryGiB": 768,
    "name": "ml.r5.24xlarge",
    "vcpuNum": 96
   },
   {
    "_defaultOrder": 47,
    "_isFastLaunch": false,
    "category": "Accelerated computing",
    "gpuNum": 1,
    "hideHardwareSpecs": false,
    "memoryGiB": 16,
    "name": "ml.g5.xlarge",
    "vcpuNum": 4
   },
   {
    "_defaultOrder": 48,
    "_isFastLaunch": false,
    "category": "Accelerated computing",
    "gpuNum": 1,
    "hideHardwareSpecs": false,
    "memoryGiB": 32,
    "name": "ml.g5.2xlarge",
    "vcpuNum": 8
   },
   {
    "_defaultOrder": 49,
    "_isFastLaunch": false,
    "category": "Accelerated computing",
    "gpuNum": 1,
    "hideHardwareSpecs": false,
    "memoryGiB": 64,
    "name": "ml.g5.4xlarge",
    "vcpuNum": 16
   },
   {
    "_defaultOrder": 50,
    "_isFastLaunch": false,
    "category": "Accelerated computing",
    "gpuNum": 1,
    "hideHardwareSpecs": false,
    "memoryGiB": 128,
    "name": "ml.g5.8xlarge",
    "vcpuNum": 32
   },
   {
    "_defaultOrder": 51,
    "_isFastLaunch": false,
    "category": "Accelerated computing",
    "gpuNum": 1,
    "hideHardwareSpecs": false,
    "memoryGiB": 256,
    "name": "ml.g5.16xlarge",
    "vcpuNum": 64
   },
   {
    "_defaultOrder": 52,
    "_isFastLaunch": false,
    "category": "Accelerated computing",
    "gpuNum": 4,
    "hideHardwareSpecs": false,
    "memoryGiB": 192,
    "name": "ml.g5.12xlarge",
    "vcpuNum": 48
   },
   {
    "_defaultOrder": 53,
    "_isFastLaunch": false,
    "category": "Accelerated computing",
    "gpuNum": 4,
    "hideHardwareSpecs": false,
    "memoryGiB": 384,
    "name": "ml.g5.24xlarge",
    "vcpuNum": 96
   },
   {
    "_defaultOrder": 54,
    "_isFastLaunch": false,
    "category": "Accelerated computing",
    "gpuNum": 8,
    "hideHardwareSpecs": false,
    "memoryGiB": 768,
    "name": "ml.g5.48xlarge",
    "vcpuNum": 192
   },
   {
    "_defaultOrder": 55,
    "_isFastLaunch": false,
    "category": "Accelerated computing",
    "gpuNum": 8,
    "hideHardwareSpecs": false,
    "memoryGiB": 1152,
    "name": "ml.p4d.24xlarge",
    "vcpuNum": 96
   },
   {
    "_defaultOrder": 56,
    "_isFastLaunch": false,
    "category": "Accelerated computing",
    "gpuNum": 8,
    "hideHardwareSpecs": false,
    "memoryGiB": 1152,
    "name": "ml.p4de.24xlarge",
    "vcpuNum": 96
   },
   {
    "_defaultOrder": 57,
    "_isFastLaunch": false,
    "category": "Accelerated computing",
    "gpuNum": 0,
    "hideHardwareSpecs": false,
    "memoryGiB": 32,
    "name": "ml.trn1.2xlarge",
    "vcpuNum": 8
   },
   {
    "_defaultOrder": 58,
    "_isFastLaunch": false,
    "category": "Accelerated computing",
    "gpuNum": 0,
    "hideHardwareSpecs": false,
    "memoryGiB": 512,
    "name": "ml.trn1.32xlarge",
    "vcpuNum": 128
   },
   {
    "_defaultOrder": 59,
    "_isFastLaunch": false,
    "category": "Accelerated computing",
    "gpuNum": 0,
    "hideHardwareSpecs": false,
    "memoryGiB": 512,
    "name": "ml.trn1n.32xlarge",
    "vcpuNum": 128
   }
  ],
  "instance_type": "ml.t3.medium",
  "kernelspec": {
   "display_name": "Python 3 (ipykernel)",
   "language": "python",
   "name": "python3"
  },
  "language_info": {
   "codemirror_mode": {
    "name": "ipython",
    "version": 3
   },
   "file_extension": ".py",
   "mimetype": "text/x-python",
   "name": "python",
   "nbconvert_exporter": "python",
   "pygments_lexer": "ipython3",
   "version": "3.11.9"
  }
 },
 "nbformat": 4,
 "nbformat_minor": 5
}
